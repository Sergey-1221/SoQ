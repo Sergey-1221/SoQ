{
 "cells": [
  {
   "metadata": {},
   "cell_type": "markdown",
   "source": [
    "Ковариационная матрица для рискованных активов:\n",
    "$$\n",
    "\\Sigma = \\begin{pmatrix}\n",
    "\\sigma_1^2 & \\rho\\,\\sigma_1\\,\\sigma_2 \\\\\n",
    "\\rho\\,\\sigma_1\\,\\sigma_2 & \\sigma_2^2\n",
    "\\end{pmatrix}\n",
    "=\n",
    "\\begin{pmatrix}\n",
    "0.09 & 0.03 \\\\\n",
    "0.03 & 0.25\n",
    "\\end{pmatrix}.\n",
    "$$"
   ],
   "id": "a707042f06e46a9c"
  },
  {
   "metadata": {
    "ExecuteTime": {
     "end_time": "2025-03-30T18:53:47.255443Z",
     "start_time": "2025-03-30T18:53:47.243583Z"
    }
   },
   "cell_type": "code",
   "source": [
    "import numpy as np\n",
    "\n",
    "mu1, sigma1 = 0.1, 0.3   \n",
    "mu2, sigma2 = 0.2, 0.5     \n",
    "rho = 0.2 # Корреляция между активами\n",
    "\n",
    "mu = np.array([mu1, mu2])\n",
    "\n",
    "Sigma = np.array([\n",
    "    [sigma1**2, rho * sigma1 * sigma2],\n",
    "    [rho * sigma1 * sigma2, sigma2**2]\n",
    "])\n",
    "\n",
    "ones = np.ones(2)\n",
    "inv_Sigma = np.linalg.inv(Sigma)"
   ],
   "id": "9d976ca489a74926",
   "outputs": [],
   "execution_count": 8
  },
  {
   "metadata": {},
   "cell_type": "markdown",
   "source": [
    "#### 2.1: Минимальная дисперсия\n",
    "Вычисление весов:\n",
    "\n",
    "$$\n",
    "w = \\frac{\\Sigma^{-1} \\mathbf{1}}{\\mathbf{1}' \\Sigma^{-1} \\mathbf{1}},\n",
    "$$\n",
    "\n",
    "Минимальная дисперсия портфеля:\n",
    "\n",
    "$$\n",
    "\\sigma_p^2 = \\frac{1}{\\mathbf{1}' \\Sigma^{-1} \\mathbf{1}}.\n",
    "$$\n"
   ],
   "id": "e472c3b5a6ea285"
  },
  {
   "metadata": {
    "ExecuteTime": {
     "end_time": "2025-03-30T18:53:48.033145Z",
     "start_time": "2025-03-30T18:53:48.022247Z"
    }
   },
   "cell_type": "code",
   "source": [
    "w_min_var = inv_Sigma @ ones / (ones @ inv_Sigma @ ones)\n",
    "\n",
    "min_var = 1 / (ones @ inv_Sigma @ ones)\n",
    "mu_port_min_var = w_min_var @ mu\n",
    "\n",
    "print(\"Вес актива 1: {:.2%}\".format(w_min_var[0]))\n",
    "print(\"Вес актива 2: {:.2%}\".format(w_min_var[1]))\n",
    "print(\"Ожидаемая доходность портфеля: {:.2%}\".format(mu_port_min_var))\n",
    "print(\"Дисперсия портфеля: {:.4f}\".format(min_var))\n",
    "print()"
   ],
   "id": "77950ad051dccc5b",
   "outputs": [
    {
     "name": "stdout",
     "output_type": "stream",
     "text": [
      "Вес актива 1: 78.57%\n",
      "Вес актива 2: 21.43%\n",
      "Ожидаемая доходность портфеля: 12.14%\n",
      "Дисперсия портфеля: 0.0771\n",
      "\n"
     ]
    }
   ],
   "execution_count": 9
  },
  {
   "metadata": {},
   "cell_type": "markdown",
   "source": [
    "#### Задача 2.2\n",
    "\n",
    "При добавлении безрискового актива, поскольку его риск равен нулю, самый безопасный портфель – это инвестирование 100% в безрисковый актив.  "
   ],
   "id": "79dc031124ffbe80"
  },
  {
   "metadata": {},
   "cell_type": "markdown",
   "source": "#### Задача 2.3",
   "id": "dd9c0107ca2b049b"
  },
  {
   "metadata": {
    "ExecuteTime": {
     "end_time": "2025-03-30T18:53:49.287655Z",
     "start_time": "2025-03-30T18:53:49.278651Z"
    }
   },
   "cell_type": "code",
   "source": [
    "r = 0.05  # Безриск\n",
    "excess_returns = mu - r * ones\n",
    "w_tan = inv_Sigma @ excess_returns / (ones @ inv_Sigma @ excess_returns)\n",
    "\n",
    "print(\"Вес актива 1: {:.2%}\".format(w_tan[0]))\n",
    "print(\"Вес актива 2: {:.2%}\".format(w_tan[1]))"
   ],
   "id": "1f64618a68790823",
   "outputs": [
    {
     "name": "stdout",
     "output_type": "stream",
     "text": [
      "Вес актива 1: 40.00%\n",
      "Вес актива 2: 60.00%\n"
     ]
    }
   ],
   "execution_count": 10
  },
  {
   "metadata": {
    "ExecuteTime": {
     "end_time": "2025-03-30T18:53:49.795129Z",
     "start_time": "2025-03-30T18:53:49.780149Z"
    }
   },
   "cell_type": "code",
   "source": "",
   "id": "ded7f1f68e07f84d",
   "outputs": [],
   "execution_count": null
  },
  {
   "metadata": {},
   "cell_type": "code",
   "outputs": [],
   "execution_count": null,
   "source": "",
   "id": "5c42c09ebb1e744f"
  }
 ],
 "metadata": {
  "kernelspec": {
   "display_name": "Python 3",
   "language": "python",
   "name": "python3"
  },
  "language_info": {
   "codemirror_mode": {
    "name": "ipython",
    "version": 2
   },
   "file_extension": ".py",
   "mimetype": "text/x-python",
   "name": "python",
   "nbconvert_exporter": "python",
   "pygments_lexer": "ipython2",
   "version": "2.7.6"
  }
 },
 "nbformat": 4,
 "nbformat_minor": 5
}
